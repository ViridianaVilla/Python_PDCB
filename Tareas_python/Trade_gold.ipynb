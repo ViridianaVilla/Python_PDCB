{
 "cells": [
  {
   "cell_type": "markdown",
   "metadata": {},
   "source": [
    "# Fuerza bruta"
   ]
  },
  {
   "cell_type": "markdown",
   "metadata": {},
   "source": [
    "En las estrategias de fuerza bruta se exploran todas las posibilidades para encontrar el mejor resultado."
   ]
  },
  {
   "cell_type": "markdown",
   "metadata": {},
   "source": [
    "Problema:\n",
    "* Tienes los precios diarios del oro por un intervalo de tiempo. Quieres encontrar dos días en este intervalo que si tu hubieras comprado y vendido oro en esas fechas hubieras obtenido la máxima ganancia."
   ]
  },
  {
   "cell_type": "markdown",
   "metadata": {},
   "source": [
    "Tomando en cuenta que tenemos el precio de oro a la venta y a la compra por día, definimos una función que encuentre los días en los que deberíamos comprar y vender para tener la mejor ganancia."
   ]
  },
  {
   "cell_type": "markdown",
   "metadata": {},
   "source": [
    "Precio de venta:"
   ]
  },
  {
   "cell_type": "code",
   "execution_count": 8,
   "metadata": {},
   "outputs": [],
   "source": [
    "sell_price=[20.2,21.3,20.5,21.0,22.1,20.8,21.5,20.9,22.06]"
   ]
  },
  {
   "cell_type": "markdown",
   "metadata": {},
   "source": [
    "Precio de compra:"
   ]
  },
  {
   "cell_type": "code",
   "execution_count": 9,
   "metadata": {},
   "outputs": [],
   "source": [
    "buy_price=[19.8,20.1,19.9,20.2,20.8,20.1,21.0,20.3,21.5]"
   ]
  },
  {
   "cell_type": "code",
   "execution_count": 10,
   "metadata": {},
   "outputs": [],
   "source": [
    "def best_days(sell_price,buy_price):\n",
    "\n",
    "    best_trade = 0\n",
    "\n",
    "    n=len(sell_price)\n",
    "    m=len(buy_price)\n",
    "\n",
    "    if n != m:       #Verifica que tengamos datos tanto de precio de venta como de compra para cada día\n",
    "        return False\n",
    "\n",
    "    for s in sell_price:\n",
    "        for b in buy_price:\n",
    "            best_trade_days = s - b   #Revisa cual la ganancia por combinación de días\n",
    "\n",
    "            if not buy_price.index(b) > sell_price.index(s): #Revisa que el día de compra de oro sea anterior al de venta\n",
    "\n",
    "                if best_trade <= best_trade_days: #Compara las ganancias para encontrar el mejor día para comprar y vender\n",
    "                    best_trade = best_trade_days\n",
    "                    sell = s\n",
    "                    buy = b\n",
    "                    day_buy = buy_price.index(b)+1\n",
    "                    day_sell = sell_price.index(s)+1\n",
    "\n",
    "\n",
    "    print(f'Comprar oro en el día: {day_buy} a {buy} USD \\nVender oro en el día: {day_sell} a {sell} USD \\nGanancia total: {round(sell-buy,3)} USD' )\n",
    "    "
   ]
  },
  {
   "cell_type": "markdown",
   "metadata": {},
   "source": [
    "Determinar los días ideales de compra y venta para nuestro set de datos"
   ]
  },
  {
   "cell_type": "code",
   "execution_count": 11,
   "metadata": {},
   "outputs": [
    {
     "name": "stdout",
     "output_type": "stream",
     "text": [
      "Comprar oro en el día: 1 a 19.8 USD \n",
      "Vender oro en el día: 5 a 22.1 USD \n",
      "Ganancia total: 2.3 USD\n"
     ]
    }
   ],
   "source": [
    "best_days(sell_price,buy_price)"
   ]
  },
  {
   "cell_type": "code",
   "execution_count": null,
   "metadata": {},
   "outputs": [],
   "source": []
  }
 ],
 "metadata": {
  "kernelspec": {
   "display_name": "Python 3",
   "language": "python",
   "name": "python3"
  },
  "language_info": {
   "codemirror_mode": {
    "name": "ipython",
    "version": 3
   },
   "file_extension": ".py",
   "mimetype": "text/x-python",
   "name": "python",
   "nbconvert_exporter": "python",
   "pygments_lexer": "ipython3",
   "version": "3.7.4"
  }
 },
 "nbformat": 4,
 "nbformat_minor": 2
}
