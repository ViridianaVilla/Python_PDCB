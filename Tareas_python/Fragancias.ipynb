{
 "cells": [
  {
   "cell_type": "markdown",
   "metadata": {},
   "source": [
    "# Iteración"
   ]
  },
  {
   "cell_type": "markdown",
   "metadata": {},
   "source": [
    "Una fragancia florar se hace combinando escencias de diferentes flores. Dado un conjunto de flores, ¿cómo listarías todas las fragancias que pueden hacerse?"
   ]
  },
  {
   "cell_type": "code",
   "execution_count": 1,
   "metadata": {},
   "outputs": [
    {
     "name": "stdout",
     "output_type": "stream",
     "text": [
      "['Margarita', 'Lavanda', 'Clavel']\n"
     ]
    }
   ],
   "source": [
    "flores= ['Margarita', 'Lavanda','Clavel']\n",
    "print(flores)"
   ]
  },
  {
   "cell_type": "markdown",
   "metadata": {},
   "source": [
    "El proceso se puede realizar con un loop usando un **for**:"
   ]
  },
  {
   "cell_type": "code",
   "execution_count": 2,
   "metadata": {},
   "outputs": [],
   "source": [
    "def power_set(flowers):\n",
    "\n",
    "\n",
    "    n=len(flowers)\n",
    "    fragancia=list()\n",
    "    fragances=set(['']) #Crear un conjunto vacío para la combinación de todas las flores\n",
    "\n",
    "    for flower in flowers: # Iterar a través de todas las flores de la lista \n",
    "        fragances.add(flower) #y añadir al conjunto todas las flores\n",
    "\n",
    "        for fragance in fragances: #Ahora haga las combinaciones de todas las fragancias posibles \n",
    "            olores=set([''])       #iterando en el conjunto de fragancias \n",
    "            olores.add(fragance)\n",
    "            for i in range(0,n):\n",
    "                olores.add(flower)\n",
    "                otros=olores.copy()\n",
    "                otros.add(fragance)\n",
    "\n",
    "\n",
    "            fragancia.append(otros)  #Añade todas las fragancias posibles en la lista \"fragancias\"\n",
    "\n",
    "\n",
    "    fragancia.append(fragances) #Añade la fragancia que incluye todas las flores\n",
    "\n",
    "    final=['']\n",
    "\n",
    "    for i in fragancia: #Eliminar las fragancias que están duplicadas\n",
    "        if i not in final:\n",
    "            final.append(i)\n",
    "\n",
    "    print('El número total de fragancias posibles es: ', len(final))\n",
    "    return final \n",
    "    \n",
    "\n",
    "\n",
    "\n"
   ]
  },
  {
   "cell_type": "code",
   "execution_count": 3,
   "metadata": {},
   "outputs": [
    {
     "name": "stdout",
     "output_type": "stream",
     "text": [
      "El número total de fragancias posibles es:  8\n"
     ]
    },
    {
     "data": {
      "text/plain": [
       "['',\n",
       " {'', 'Margarita'},\n",
       " {'', 'Lavanda'},\n",
       " {'', 'Lavanda', 'Margarita'},\n",
       " {'', 'Clavel'},\n",
       " {'', 'Clavel', 'Lavanda'},\n",
       " {'', 'Clavel', 'Margarita'},\n",
       " {'', 'Clavel', 'Lavanda', 'Margarita'}]"
      ]
     },
     "execution_count": 3,
     "metadata": {},
     "output_type": "execute_result"
    }
   ],
   "source": [
    "power_set(flores)"
   ]
  },
  {
   "cell_type": "code",
   "execution_count": 4,
   "metadata": {},
   "outputs": [],
   "source": [
    "flores2=['rosa','lavanda','lili','margarita','clavel']"
   ]
  },
  {
   "cell_type": "code",
   "execution_count": 5,
   "metadata": {},
   "outputs": [
    {
     "name": "stdout",
     "output_type": "stream",
     "text": [
      "El número total de fragancias posibles es:  17\n"
     ]
    },
    {
     "data": {
      "text/plain": [
       "['',\n",
       " {'', 'rosa'},\n",
       " {'', 'lavanda'},\n",
       " {'', 'lavanda', 'rosa'},\n",
       " {'', 'lili'},\n",
       " {'', 'lili', 'rosa'},\n",
       " {'', 'lavanda', 'lili'},\n",
       " {'', 'margarita'},\n",
       " {'', 'margarita', 'rosa'},\n",
       " {'', 'lavanda', 'margarita'},\n",
       " {'', 'lili', 'margarita'},\n",
       " {'', 'clavel'},\n",
       " {'', 'clavel', 'rosa'},\n",
       " {'', 'clavel', 'lavanda'},\n",
       " {'', 'clavel', 'margarita'},\n",
       " {'', 'clavel', 'lili'},\n",
       " {'', 'clavel', 'lavanda', 'lili', 'margarita', 'rosa'}]"
      ]
     },
     "execution_count": 5,
     "metadata": {},
     "output_type": "execute_result"
    }
   ],
   "source": [
    "power_set(flores2)"
   ]
  },
  {
   "cell_type": "code",
   "execution_count": null,
   "metadata": {},
   "outputs": [],
   "source": []
  }
 ],
 "metadata": {
  "kernelspec": {
   "display_name": "Python 3",
   "language": "python",
   "name": "python3"
  },
  "language_info": {
   "codemirror_mode": {
    "name": "ipython",
    "version": 3
   },
   "file_extension": ".py",
   "mimetype": "text/x-python",
   "name": "python",
   "nbconvert_exporter": "python",
   "pygments_lexer": "ipython3",
   "version": "3.7.4"
  }
 },
 "nbformat": 4,
 "nbformat_minor": 2
}
