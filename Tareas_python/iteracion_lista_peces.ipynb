{
 "cells": [
  {
   "cell_type": "markdown",
   "metadata": {},
   "source": [
    "# Iteración"
   ]
  },
  {
   "cell_type": "markdown",
   "metadata": {},
   "source": [
    "Te dan una lista de peces de agua salada y peces de agua dulce, ambos en orden alfabetico. ¿Cómo creas una lista que tenga todos los peces en orden alfabético?"
   ]
  },
  {
   "cell_type": "markdown",
   "metadata": {},
   "source": [
    "La lista de peces de agua salada es la siguiente:"
   ]
  },
  {
   "cell_type": "code",
   "execution_count": 64,
   "metadata": {},
   "outputs": [
    {
     "name": "stdout",
     "output_type": "stream",
     "text": [
      "['Angel', 'Cirujano', 'Globo', 'Marlin', 'Payaso']\n"
     ]
    }
   ],
   "source": [
    "salada = ['Angel','Cirujano','Globo','Marlin','Payaso']\n",
    "print (salada)"
   ]
  },
  {
   "cell_type": "markdown",
   "metadata": {},
   "source": [
    "La lista de peces de agua dulce es la siguiente:"
   ]
  },
  {
   "cell_type": "code",
   "execution_count": 65,
   "metadata": {},
   "outputs": [
    {
     "name": "stdout",
     "output_type": "stream",
     "text": [
      "['Betta', 'Carpa', 'Damisela', 'Disco', 'Guppy']\n"
     ]
    }
   ],
   "source": [
    "dulce = ['Betta','Carpa','Damisela','Disco','Guppy']\n",
    "print(dulce)"
   ]
  },
  {
   "cell_type": "markdown",
   "metadata": {},
   "source": [
    "El proceso se puede realizar con un loop usando un **while**:"
   ]
  },
  {
   "cell_type": "code",
   "execution_count": 66,
   "metadata": {},
   "outputs": [],
   "source": [
    "def merge(salada,dulce):\n",
    "    result = []\n",
    "    \n",
    "    while len(salada) and len(dulce)>0:\n",
    "        \n",
    "        if salada[0] < dulce[0]:\n",
    "            pez = salada[0]\n",
    "            result.append(pez)\n",
    "            salada.remove(pez)\n",
    "            \n",
    "            \n",
    "        else: \n",
    "            pez = dulce[0]\n",
    "            result.append(pez)\n",
    "            dulce.remove(pez)\n",
    "            \n",
    "    if len(salada) == 0:\n",
    "        result+=dulce\n",
    "    elif len(dulce) == 0:\n",
    "        result+=salada\n",
    "            \n",
    "    return result\n",
    "        "
   ]
  },
  {
   "cell_type": "code",
   "execution_count": 67,
   "metadata": {},
   "outputs": [
    {
     "data": {
      "text/plain": [
       "['Angel',\n",
       " 'Betta',\n",
       " 'Carpa',\n",
       " 'Cirujano',\n",
       " 'Damisela',\n",
       " 'Disco',\n",
       " 'Globo',\n",
       " 'Guppy',\n",
       " 'Marlin',\n",
       " 'Payaso']"
      ]
     },
     "execution_count": 67,
     "metadata": {},
     "output_type": "execute_result"
    }
   ],
   "source": [
    "merge(salada,dulce)"
   ]
  },
  {
   "cell_type": "markdown",
   "metadata": {},
   "source": [
    "Ahora las listas han quedado en orden alfabético"
   ]
  },
  {
   "cell_type": "code",
   "execution_count": null,
   "metadata": {},
   "outputs": [],
   "source": []
  }
 ],
 "metadata": {
  "kernelspec": {
   "display_name": "Python 3",
   "language": "python",
   "name": "python3"
  },
  "language_info": {
   "codemirror_mode": {
    "name": "ipython",
    "version": 3
   },
   "file_extension": ".py",
   "mimetype": "text/x-python",
   "name": "python",
   "nbconvert_exporter": "python",
   "pygments_lexer": "ipython3",
   "version": "3.7.4"
  }
 },
 "nbformat": 4,
 "nbformat_minor": 2
}
