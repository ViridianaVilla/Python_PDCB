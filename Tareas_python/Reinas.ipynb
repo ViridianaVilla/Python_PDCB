{
 "cells": [
  {
   "cell_type": "markdown",
   "metadata": {},
   "source": [
    "# Vuelta atrás (Backtracking)"
   ]
  },
  {
   "cell_type": "markdown",
   "metadata": {},
   "source": [
    "Con la estrategia de vuelta atrás se van explorando una a una las posibles soluciones, en caso de encontrarnos con una respuesta incorrecta (ej. false), volvemos atrás y probamos una nueva opción entre todas las posibilidades."
   ]
  },
  {
   "cell_type": "markdown",
   "metadata": {},
   "source": [
    "Problema: ¿Cómo podemos posicionar 8 reinas en un tablero de ajedrez sin que se \"mate\" una a la otra\"?"
   ]
  },
  {
   "cell_type": "markdown",
   "metadata": {},
   "source": [
    "Hacer una matriz con numpy para simular el tablero de ajedrez:"
   ]
  },
  {
   "cell_type": "code",
   "execution_count": 6,
   "metadata": {},
   "outputs": [
    {
     "name": "stdout",
     "output_type": "stream",
     "text": [
      "[[0 0 0 0 0 0 0 0]\n",
      " [0 0 0 0 0 0 0 0]\n",
      " [0 0 0 0 0 0 0 0]\n",
      " [0 0 0 0 0 0 0 0]\n",
      " [0 0 0 0 0 0 0 0]\n",
      " [0 0 0 0 0 0 0 0]\n",
      " [0 0 0 0 0 0 0 0]\n",
      " [0 0 0 0 0 0 0 0]]\n"
     ]
    }
   ],
   "source": [
    "tablero = np.zeros((8,8),dtype=int) \n",
    "print(tablero) #tablero sin reinas"
   ]
  },
  {
   "cell_type": "markdown",
   "metadata": {},
   "source": [
    "Definimos la función que se encarga de posicionar a las reinas verificando que no haya otra en \"su camino\":"
   ]
  },
  {
   "cell_type": "code",
   "execution_count": 7,
   "metadata": {},
   "outputs": [],
   "source": [
    "import numpy as np\n",
    "\n",
    "def posicionar_reinas(f,c):\n",
    "    for k in range(8): #Checar por cada columna y fila si existe una reina\n",
    "        if tablero[f][k] == 1 or tablero[k][c] == 1:\n",
    "            return False\n",
    "        \n",
    "    for n in range(8): # check diagonal\n",
    "        for m in range(len(tablero)):\n",
    "            if(f+c == n + m) or (f-c == n-m):\n",
    "                if tablero[n][m] == 1:\n",
    "                    return False\n",
    "    return 1\n",
    "\n"
   ]
  },
  {
   "cell_type": "markdown",
   "metadata": {},
   "source": [
    "Definimos la función que posicione el número de reinas deseadas, debe de ser de acuerdo al tamaño del tablero.\n",
    "Esta función reinas() utiliza la función posicionar_reinas(f,c) definida arriba."
   ]
  },
  {
   "cell_type": "code",
   "execution_count": 12,
   "metadata": {},
   "outputs": [],
   "source": [
    "def reinas(n):\n",
    "    if n == 0:\n",
    "        return 1\n",
    "    for i in range(8):\n",
    "        for j in range(8):\n",
    "            if posicionar_reinas(i,j) and tablero[i][j] != 1:\n",
    "                tablero[i][j] = 1\n",
    "                if reinas(n-1):\n",
    "                    return True\n",
    "                else: \n",
    "                    tablero[i][j] = 0\n",
    "    return False\n"
   ]
  },
  {
   "cell_type": "markdown",
   "metadata": {},
   "source": [
    "Ahora probamos la función con 8 reinas a posicionar "
   ]
  },
  {
   "cell_type": "code",
   "execution_count": 13,
   "metadata": {},
   "outputs": [
    {
     "data": {
      "text/plain": [
       "True"
      ]
     },
     "execution_count": 13,
     "metadata": {},
     "output_type": "execute_result"
    }
   ],
   "source": [
    "reinas(8)"
   ]
  },
  {
   "cell_type": "markdown",
   "metadata": {},
   "source": [
    "Imprimimos el tablero con las 8 reinas posicionadas (denotadas como 1)."
   ]
  },
  {
   "cell_type": "code",
   "execution_count": 14,
   "metadata": {},
   "outputs": [
    {
     "name": "stdout",
     "output_type": "stream",
     "text": [
      "[[1 0 0 0 0 0 0 0]\n",
      " [0 0 0 0 1 0 0 0]\n",
      " [0 0 0 0 0 0 0 1]\n",
      " [0 0 0 0 0 1 0 0]\n",
      " [0 0 1 0 0 0 0 0]\n",
      " [0 0 0 0 0 0 1 0]\n",
      " [0 1 0 0 0 0 0 0]\n",
      " [0 0 0 1 0 0 0 0]]\n"
     ]
    }
   ],
   "source": [
    "print(tablero)"
   ]
  }
 ],
 "metadata": {
  "kernelspec": {
   "display_name": "Python 3",
   "language": "python",
   "name": "python3"
  },
  "language_info": {
   "codemirror_mode": {
    "name": "ipython",
    "version": 3
   },
   "file_extension": ".py",
   "mimetype": "text/x-python",
   "name": "python",
   "nbconvert_exporter": "python",
   "pygments_lexer": "ipython3",
   "version": "3.7.4"
  }
 },
 "nbformat": 4,
 "nbformat_minor": 2
}
