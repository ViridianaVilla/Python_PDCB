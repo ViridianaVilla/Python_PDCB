{
 "cells": [
  {
   "cell_type": "markdown",
   "metadata": {},
   "source": [
    "# Fuerza bruta"
   ]
  },
  {
   "cell_type": "markdown",
   "metadata": {},
   "source": [
    "Siguiendo la estrategia de fuerza bruta, resolver el siguiente problema:"
   ]
  },
  {
   "cell_type": "markdown",
   "metadata": {},
   "source": [
    "Tienes una mochila con productos para vender.\n",
    "Aguanta hasta cierto peso, pero no puedes cargar\n",
    "todos tus productos, así que debes elegir cuáles llevar.\n",
    "Conociendo los pesos y ventas de cada producto, ¿Qué productos llevarás para obtener la mayor ganancia?"
   ]
  },
  {
   "cell_type": "markdown",
   "metadata": {},
   "source": [
    "Determinamos un conjunto de productos con sus respectivos valores de peso (kg) y monetarios (USD): "
   ]
  },
  {
   "cell_type": "code",
   "execution_count": 5,
   "metadata": {},
   "outputs": [],
   "source": [
    "products = {'handbag1': [.600,150],'handbag2': [.600,100],'perfume1': [.350,50],'perfume2':[.370,55],'sneakers':[.700,250],'swimsuit':[.200, .150], 'body lotion1':[.200,20], 'body lotion2':[.200,20], 'body lotion3':[.200,20], 'jeans':[.500,.140], 'jacket':[1.0, 250]}"
   ]
  },
  {
   "cell_type": "markdown",
   "metadata": {},
   "source": [
    "Definimos la función que nos regrese la combinación ideal de productos que nuestra bolsa podrá soportar (por su peso) y que nos darán la mejor ganancia."
   ]
  },
  {
   "cell_type": "code",
   "execution_count": 6,
   "metadata": {},
   "outputs": [],
   "source": [
    "def power_set(products, max_weight):\n",
    "    best_gain=0\n",
    "    list_of_products= list()\n",
    "\n",
    "    for product in products:\n",
    "        list_of_products.append(product)\n",
    "\n",
    "    n=len(list_of_products)\n",
    "    merchandises=list()\n",
    "    merchandise=set() \n",
    "\n",
    "    for article in list_of_products: # Itera entre la lista de produtos  \n",
    "        merchandise.add(article) \n",
    "    \n",
    "        for goods in merchandise: #Realiza las combinaciones de todos los productos \n",
    "            combinaciones=set()       \n",
    "            combinaciones.add(goods)\n",
    "            for i in range(0,n):\n",
    "                producto = list_of_products[i]\n",
    "                combinaciones.add(producto)\n",
    "                otros=combinaciones.copy()\n",
    "                otros.add(goods)\n",
    "\n",
    "                merchandises.append(otros)  # Añade las combinaciones productos a la lista\n",
    "\n",
    "\n",
    "    merchandises.append(merchandise) #Añadir la lista que tiene todos los productos en la bolsa\n",
    "\n",
    "\n",
    "    final=[]\n",
    "\n",
    "    for i in merchandises: #Eliminar las combinaciones de mercancia que están duplicadas\n",
    "        if i not in final:\n",
    "            final.append(i)\n",
    "        \n",
    "        \n",
    "# Ahora determinar el peso y la ganancia que generaría cada conjunto\n",
    "\n",
    "    la_mejor_bolsa = list()\n",
    "    valores_pesos=list()\n",
    "    valores_ganancia=list()\n",
    "\n",
    "\n",
    "    for conjunto in final:\n",
    "        peso_del_set = 0\n",
    "        venta_por_bolsa = 0\n",
    "        for i in conjunto:\n",
    "            peso_de_cada_item = products[i][0]\n",
    "            peso_del_set = peso_del_set + peso_de_cada_item\n",
    "            valor_de_cada_item = products[i][1]\n",
    "            venta_por_bolsa = venta_por_bolsa + valor_de_cada_item\n",
    "\n",
    "        valores_pesos.append(peso_del_set)\n",
    "        valores_ganancia.append(venta_por_bolsa)\n",
    "\n",
    "\n",
    "    pesos_indices = list()\n",
    "    lista_conjunto_peso_menor_a_max = list() #con los conjutos que tienen un peso menor al max\n",
    "\n",
    "\n",
    "# Ahora encontrar los productos con un peso menor o igual al peso maximo\n",
    "\n",
    "    for i in valores_pesos:\n",
    "\n",
    "        if i <= max_weight:\n",
    "            string_peso = str(i)\n",
    "            indice_peso_ok = valores_pesos.index(i)\n",
    "            pesos_indices.append(indice_peso_ok)\n",
    "            conjunto_menor_a_max= final[indice_peso_ok]\n",
    "            lista_conjunto_peso_menor_a_max.append(conjunto_menor_a_max)\n",
    "            \n",
    "\n",
    "    \n",
    "# De los conjuntos que tienen un peso menor o igual al peso máximo\n",
    "# seleccionar aquel que genere la ganancia máxima\n",
    "\n",
    "    for index in pesos_indices:\n",
    "\n",
    "        if valores_ganancia[index] > best_gain:\n",
    "            la_mejor_bolsa.clear()\n",
    "            la_mejor_bolsa.append(final[index])\n",
    "            peso_ganador = valores_pesos[index]\n",
    "            venta_ganadora = valores_ganancia[index]\n",
    "\n",
    "    print(f'Número de productos en la bolsa:{len(la_mejor_bolsa[0])} \\nGanancia esperada: {round(venta_ganadora,2)} USD \\nPeso total de la bolsa: {round(peso_ganador,2)} kg \\nArtículos a llevar: {la_mejor_bolsa}')\n"
   ]
  },
  {
   "cell_type": "markdown",
   "metadata": {},
   "source": [
    "Ahora probamos con nuestro conjunto de productos, tomando en cuenta un peso máximo que soporta la bolsa de: 2 kg"
   ]
  },
  {
   "cell_type": "code",
   "execution_count": 7,
   "metadata": {},
   "outputs": [
    {
     "name": "stdout",
     "output_type": "stream",
     "text": [
      "Número de productos en la bolsa:2 \n",
      "Ganancia esperada: 400 USD \n",
      "Peso total de la bolsa: 1.6 kg \n",
      "Artículos a llevar: [{'jacket', 'handbag1'}]\n"
     ]
    }
   ],
   "source": [
    "power_set(products, 2)"
   ]
  },
  {
   "cell_type": "markdown",
   "metadata": {},
   "source": [
    "Ahora hacemos la prueba con los mismos productos, pero con un peso máximo de 3.5 kg"
   ]
  },
  {
   "cell_type": "code",
   "execution_count": 8,
   "metadata": {},
   "outputs": [
    {
     "name": "stdout",
     "output_type": "stream",
     "text": [
      "Número de productos en la bolsa:5 \n",
      "Ganancia esperada: 605 USD \n",
      "Peso total de la bolsa: 2.92 kg \n",
      "Artículos a llevar: [{'jacket', 'perfume1', 'perfume2', 'handbag2', 'handbag1'}]\n"
     ]
    }
   ],
   "source": [
    "power_set(products, 3.5)"
   ]
  },
  {
   "cell_type": "markdown",
   "metadata": {},
   "source": [
    "Ahora hacemos la prueba con los mismos productos, pero con un peso máximo de 1.5 kg"
   ]
  },
  {
   "cell_type": "code",
   "execution_count": 9,
   "metadata": {},
   "outputs": [
    {
     "name": "stdout",
     "output_type": "stream",
     "text": [
      "Número de productos en la bolsa:2 \n",
      "Ganancia esperada: 150.14 USD \n",
      "Peso total de la bolsa: 1.1 kg \n",
      "Artículos a llevar: [{'jeans', 'handbag1'}]\n"
     ]
    }
   ],
   "source": [
    "power_set(products, 1.5)"
   ]
  },
  {
   "cell_type": "code",
   "execution_count": null,
   "metadata": {},
   "outputs": [],
   "source": []
  }
 ],
 "metadata": {
  "kernelspec": {
   "display_name": "Python 3",
   "language": "python",
   "name": "python3"
  },
  "language_info": {
   "codemirror_mode": {
    "name": "ipython",
    "version": 3
   },
   "file_extension": ".py",
   "mimetype": "text/x-python",
   "name": "python",
   "nbconvert_exporter": "python",
   "pygments_lexer": "ipython3",
   "version": "3.7.4"
  }
 },
 "nbformat": 4,
 "nbformat_minor": 2
}
